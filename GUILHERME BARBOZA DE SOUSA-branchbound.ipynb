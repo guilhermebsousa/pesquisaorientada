{
  "nbformat": 4,
  "nbformat_minor": 0,
  "metadata": {
    "colab": {
      "provenance": []
    },
    "kernelspec": {
      "name": "python3",
      "display_name": "Python 3"
    },
    "language_info": {
      "name": "python"
    }
  },
  "cells": [
    {
      "cell_type": "markdown",
      "source": [
        "# Trabalho Final de Pesquisa Operacional - Branch And Bound\n",
        "**ALUNO**: Guilherme Barboza de Sousa  \n",
        "**MATRÍCULA**: 20220007418  \n",
        "**PROFº**: Teobaldo Bulhões  \n",
        "**APRESENTAÇÃO**: https://youtu.be/WdltUMqmLug"
      ],
      "metadata": {
        "id": "KYAv31eFTEbe"
      }
    },
    {
      "cell_type": "markdown",
      "source": [
        "##Introdução"
      ],
      "metadata": {
        "id": "6_HQsYfVUPEM"
      }
    },
    {
      "cell_type": "markdown",
      "source": [
        "Este trabalho tem como objetivo, realizar a implementação, em Python, do método Branch And Bound para quadro problemas de programação linear inteira binária, problemas que, possuirão todas as funções objetivas como maximização."
      ],
      "metadata": {
        "id": "y5iyAiVwUTQz"
      }
    },
    {
      "cell_type": "markdown",
      "source": [
        "##Instalando e Importando Biblioteca MIP\n"
      ],
      "metadata": {
        "id": "dCbKjghrWpdi"
      }
    },
    {
      "cell_type": "code",
      "execution_count": 1,
      "metadata": {
        "colab": {
          "base_uri": "https://localhost:8080/"
        },
        "id": "BvqtOobRTB31",
        "outputId": "c3693b6a-1415-4456-b1f1-126d4110d8a9"
      },
      "outputs": [
        {
          "output_type": "stream",
          "name": "stdout",
          "text": [
            "Requirement already satisfied: mip in /usr/local/lib/python3.10/dist-packages (1.15.0)\n",
            "Requirement already satisfied: cffi==1.15.* in /usr/local/lib/python3.10/dist-packages (from mip) (1.15.1)\n",
            "Requirement already satisfied: pycparser in /usr/local/lib/python3.10/dist-packages (from cffi==1.15.*->mip) (2.22)\n"
          ]
        }
      ],
      "source": [
        "!pip install mip"
      ]
    },
    {
      "cell_type": "code",
      "source": [
        "from mip import *\n"
      ],
      "metadata": {
        "id": "gJMtFFtcXN9p"
      },
      "execution_count": 101,
      "outputs": []
    },
    {
      "cell_type": "markdown",
      "source": [
        "##Função Para Ler o Arquivo e Extraindo informações"
      ],
      "metadata": {
        "id": "SSBocEJwxHmZ"
      }
    },
    {
      "cell_type": "code",
      "source": [
        "var_coef = [] #coeficientes das variaveis na funcao objetivo\n",
        "qnt_var = 0 #quantidade de variaveis\n",
        "qnt_rest = 0 #quantidade de restricoes\n",
        "\n",
        "def read_file(archive):\n",
        "  global var_coef, restrictions, restrictionsLimits, num_var, num_rest, qnt_var, qnt_rest\n",
        "  try:\n",
        "    with open(archive, 'r') as arq: #abrindo o arquivo\n",
        "\n",
        "      line = arq.readlines()\n",
        "      var_res = line[0].split()\n",
        "      var_coef = line[1].split()\n",
        "\n",
        "      qnt_var = int(var_res[0]) #quantidade de variaveis\n",
        "      qnt_rest = int(var_res[1]) #quantidade de restricoes\n",
        "\n",
        "    restrictions = []  #lista de listas com os coeficientes das restricoes\n",
        "    restrictionsLimits = [] #lista de limites do modelo\n",
        "\n",
        "    for i in range(2, len(line)):\n",
        "      restslimit = line[i].split() #variavel para armazenar os coeficientes e limites das restrições\n",
        "      restrictions.append(list(map(int, restslimit[:qnt_var])))\n",
        "      restrictionsLimits.append(int(restslimit[qnt_var]))\n",
        "\n",
        "    var_coef = list(map(int, var_coef)) #tranformando lista de strings em int\n",
        "\n",
        "  except FileNotFoundError:\n",
        "    print(f\"O arquivo '{archive}' não foi encontrado.\")\n",
        "  except Exception as e:\n",
        "    print(f\"Erro ao ler o arquivo: {e}\")\n",
        "\n",
        "arc = 'teste4.txt'\n",
        "read_file(arc)\n",
        "\n",
        "print(f\"Quantidade de Variáveis: {qnt_var}\")\n",
        "print(f\"Quantidade de Restrições: {qnt_rest}\")\n",
        "print(f\"Coeficientes Variaveis Função Objetivo: {var_coef}\\n\")\n",
        "print(\"Coeficientes das Restrições: \")\n",
        "for i in restrictions:\n",
        "  print(i)\n",
        "print(f\"\\nLimites das Restrições: {restrictionsLimits}\")"
      ],
      "metadata": {
        "colab": {
          "base_uri": "https://localhost:8080/"
        },
        "id": "LqcvJFkzxPEo",
        "outputId": "c3816c88-f320-40f0-e0cf-60f107cf06e9"
      },
      "execution_count": 197,
      "outputs": [
        {
          "output_type": "stream",
          "name": "stdout",
          "text": [
            "Quantidade de Variáveis: 9\n",
            "Quantidade de Restrições: 9\n",
            "Coeficientes Variaveis Função Objetivo: [9, 7, 10, 7, 9, 6, 8, 4, 9]\n",
            "\n",
            "Coeficientes das Restrições: \n",
            "[4, 9, 4, 1, 9, 6, 3, 6, 1]\n",
            "[3, 7, 8, 7, 6, 3, 5, 9, 4]\n",
            "[9, 3, 6, 5, 7, 1, 1, 3, 9]\n",
            "[5, 9, 6, 5, 9, 7, 8, 7, 8]\n",
            "[7, 7, 4, 1, 3, 4, 8, 1, 9]\n",
            "[1, 6, 6, 1, 6, 7, 3, 8, 7]\n",
            "[6, 6, 8, 6, 10, 8, 1, 4, 4]\n",
            "[9, 1, 9, 7, 10, 5, 6, 2, 5]\n",
            "[2, 7, 6, 5, 1, 1, 9, 2, 1]\n",
            "\n",
            "Limites das Restrições: [40, 80, 40, 10, 10, 10, 70, 10, 20]\n"
          ]
        }
      ]
    },
    {
      "cell_type": "markdown",
      "source": [
        "##Preenchimento do Modelo Relaxado\n"
      ],
      "metadata": {
        "id": "FNRyW9_xK0TG"
      }
    },
    {
      "cell_type": "code",
      "source": [
        "\n",
        "\n",
        "rmodel = Model()\n",
        "\n",
        "# adicionando a quantidade de variaveis\n",
        "x = [rmodel.add_var(var_type=CONTINUOUS, lb=0, ub=1) for i in range(qnt_var)]\n",
        "#var_type = CONTINUOUS, para admitir valores decimais\n",
        "#lb=0, limite inferior 0\n",
        "#ub=1, limite superior 1\n",
        "\n",
        "# formando a função objetivo multiplicando os indices de var_coef com as variaveis\n",
        "rmodel.objective = maximize(xsum(var_coef[i] * x[i] for i in range(qnt_var)))\n",
        "\n",
        "# adicionando as restrições ao modelo\n",
        "for i in range(qnt_rest):\n",
        "    rests = xsum(restrictions[i][j] * x[j] for j in range(qnt_var))\n",
        "    rmodel.add_constr(rests <= restrictionsLimits[i])"
      ],
      "metadata": {
        "id": "NEGojYZ6K7Hu"
      },
      "execution_count": 198,
      "outputs": []
    },
    {
      "cell_type": "markdown",
      "source": [
        "##Função Para Resolver o Modelo"
      ],
      "metadata": {
        "id": "PsK1k_J8SRXf"
      }
    },
    {
      "cell_type": "code",
      "source": [
        "def solve(model):\n",
        "  model.optimize()\n",
        "  if model.num_solutions:\n",
        "    print(\"\\n\")\n",
        "    print(model.status)\n",
        "    print(f\"Z  = {model.objective_value:.2f}\")\n",
        "\n",
        "    print('Solução:')\n",
        "    for i, v in enumerate(model.vars):\n",
        "      var_name = f\"X{i+1}\"\n",
        "      var_value = v.x\n",
        "      print(f\"{var_name} = {var_value:.2f}\")\n",
        "\n",
        "print(\"Modelo Relaxado\")\n",
        "solve(rmodel)\n",
        "print(\"--------------------------------------\")"
      ],
      "metadata": {
        "colab": {
          "base_uri": "https://localhost:8080/"
        },
        "id": "qQBj0A6bSXCX",
        "outputId": "40be7d71-6d11-4be2-d215-1f53aa402020"
      },
      "execution_count": 199,
      "outputs": [
        {
          "output_type": "stream",
          "name": "stdout",
          "text": [
            "Modelo Relaxado\n",
            "\n",
            "\n",
            "OptimizationStatus.OPTIMAL\n",
            "Z  = 13.57\n",
            "Solução:\n",
            "X1 = 0.00\n",
            "X2 = 0.00\n",
            "X3 = 0.71\n",
            "X4 = 0.00\n",
            "X5 = 0.00\n",
            "X6 = 0.00\n",
            "X7 = 0.00\n",
            "X8 = 0.00\n",
            "X9 = 0.71\n",
            "--------------------------------------\n"
          ]
        }
      ]
    },
    {
      "cell_type": "markdown",
      "source": [
        "## Listar os Valores das Váriaveis do Modelo Relaxado Otimizado"
      ],
      "metadata": {
        "id": "LkCMTXufVEEX"
      }
    },
    {
      "cell_type": "code",
      "source": [
        "def list_vars(m):  #m = model\n",
        "  solution_values = [] #lista para armazenar os valores das variaveis de m\n",
        "  for i, v in enumerate(m.vars):\n",
        "          var_value = v.x\n",
        "          solution_values.append(var_value)\n",
        "          solution_values = list(map(float, solution_values))\n",
        "\n",
        "  return solution_values\n",
        "\n",
        "list_vars(rmodel)"
      ],
      "metadata": {
        "colab": {
          "base_uri": "https://localhost:8080/"
        },
        "id": "Zre0plglVka-",
        "outputId": "8138bce5-616e-4760-c589-c2518ade2728"
      },
      "execution_count": 201,
      "outputs": [
        {
          "output_type": "execute_result",
          "data": {
            "text/plain": [
              "[0.0, 0.0, 0.7142857142857143, 0.0, 0.0, 0.0, 0.0, 0.0, 0.7142857142857144]"
            ]
          },
          "metadata": {},
          "execution_count": 201
        }
      ]
    },
    {
      "cell_type": "markdown",
      "source": [
        "##Função para Avaliar as Variáveis"
      ],
      "metadata": {
        "id": "aF2Z7o59xnmo"
      }
    },
    {
      "cell_type": "code",
      "source": [
        "def vars_int(modelvar): #modelvar = variaveis de um modelo\n",
        "    for index, value in enumerate(modelvar):\n",
        "        if not isinstance(value, int) and not value.is_integer():\n",
        "            return index\n",
        "    return True\n",
        "\n",
        "vars_int(list_vars(rmodel))"
      ],
      "metadata": {
        "id": "yJa-RuYRXreh",
        "colab": {
          "base_uri": "https://localhost:8080/"
        },
        "outputId": "6f85f653-1d9f-4365-8a7f-bb22d469c832"
      },
      "execution_count": 202,
      "outputs": [
        {
          "output_type": "execute_result",
          "data": {
            "text/plain": [
              "2"
            ]
          },
          "metadata": {},
          "execution_count": 202
        }
      ]
    },
    {
      "cell_type": "markdown",
      "source": [
        "## Função de Ramificação"
      ],
      "metadata": {
        "id": "yRn8vqFil2vB"
      }
    },
    {
      "cell_type": "code",
      "source": [
        "def bnb(m):\n",
        "  li=float('-inf') #li = limite inferior\n",
        "  ls = rmodel.objective_value #ls = limite superior\n",
        "  node = [m]\n",
        "  count = 0 #contagem pilha\n",
        "\n",
        "  while node:\n",
        "\n",
        "    solve(node[-1])\n",
        "    if node[-1].status == OptimizationStatus.OPTIMAL and node[-1].objective_value >= li and node[-1].objective_value <= ls:\n",
        "      if vars_int(list_vars(node[-1])) is not True:\n",
        "        change = vars_int(list_vars(node[-1])) #indice para mudar\n",
        "\n",
        "        node.append(node[-1].copy())\n",
        "        count+=1\n",
        "        node[-1] += x[change] == 0\n",
        "        continue\n",
        "\n",
        "      li = node[-1].objective_value\n",
        "      for i in range(count):\n",
        "        del node[-1]\n",
        "      count = 0\n",
        "\n",
        "      if vars_int(list_vars(node[-1])) is not True:\n",
        "        change = vars_int(list_vars(node[-1])) #indice para mudar\n",
        "        node.append(node[-1].copy())\n",
        "        node[-1] += x[change] == 1\n",
        "        del node[0]\n",
        "        continue\n",
        "\n",
        "    for i in range(count):\n",
        "      del node[-1]\n",
        "    count = 0\n",
        "    break\n",
        "  print('--------------------\\n')\n",
        "  return f\"Solução Ótima: {li}\"\n",
        "\n",
        "\n",
        "bnb(rmodel)"
      ],
      "metadata": {
        "id": "mlJgOSQbSR7w",
        "colab": {
          "base_uri": "https://localhost:8080/",
          "height": 1000
        },
        "outputId": "ba6511e2-994a-4233-db27-85e7eae85eef"
      },
      "execution_count": 203,
      "outputs": [
        {
          "output_type": "stream",
          "name": "stdout",
          "text": [
            "\n",
            "\n",
            "OptimizationStatus.OPTIMAL\n",
            "Z  = 13.57\n",
            "Solução:\n",
            "X1 = 0.00\n",
            "X2 = 0.00\n",
            "X3 = 0.71\n",
            "X4 = 0.00\n",
            "X5 = 0.00\n",
            "X6 = 0.00\n",
            "X7 = 0.00\n",
            "X8 = 0.00\n",
            "X9 = 0.71\n",
            "\n",
            "\n",
            "OptimizationStatus.OPTIMAL\n",
            "Z  = 13.08\n",
            "Solução:\n",
            "X1 = 0.38\n",
            "X2 = 0.00\n",
            "X3 = 0.00\n",
            "X4 = 0.38\n",
            "X5 = 0.00\n",
            "X6 = 0.00\n",
            "X7 = 0.00\n",
            "X8 = 0.00\n",
            "X9 = 0.77\n",
            "\n",
            "\n",
            "OptimizationStatus.OPTIMAL\n",
            "Z  = 12.58\n",
            "Solução:\n",
            "X1 = 0.00\n",
            "X2 = 0.00\n",
            "X3 = 0.00\n",
            "X4 = 0.97\n",
            "X5 = 0.00\n",
            "X6 = 0.00\n",
            "X7 = 0.00\n",
            "X8 = 0.00\n",
            "X9 = 0.65\n",
            "\n",
            "\n",
            "OptimizationStatus.OPTIMAL\n",
            "Z  = 11.00\n",
            "Solução:\n",
            "X1 = 0.00\n",
            "X2 = 0.00\n",
            "X3 = 0.00\n",
            "X4 = 0.00\n",
            "X5 = 0.22\n",
            "X6 = 0.00\n",
            "X7 = 0.00\n",
            "X8 = 0.00\n",
            "X9 = 1.00\n",
            "\n",
            "\n",
            "OptimizationStatus.OPTIMAL\n",
            "Z  = 10.65\n",
            "Solução:\n",
            "X1 = 0.00\n",
            "X2 = 0.00\n",
            "X3 = 0.00\n",
            "X4 = 0.00\n",
            "X5 = 0.00\n",
            "X6 = 0.32\n",
            "X7 = 0.00\n",
            "X8 = 0.00\n",
            "X9 = 0.97\n",
            "\n",
            "\n",
            "OptimizationStatus.OPTIMAL\n",
            "Z  = 10.50\n",
            "Solução:\n",
            "X1 = 0.00\n",
            "X2 = 0.00\n",
            "X3 = 0.00\n",
            "X4 = 0.00\n",
            "X5 = 0.00\n",
            "X6 = 0.00\n",
            "X7 = 0.10\n",
            "X8 = 0.17\n",
            "X9 = 1.00\n",
            "\n",
            "\n",
            "OptimizationStatus.OPTIMAL\n",
            "Z  = 10.38\n",
            "Solução:\n",
            "X1 = 0.00\n",
            "X2 = 0.13\n",
            "X3 = 0.00\n",
            "X4 = 0.00\n",
            "X5 = 0.00\n",
            "X6 = 0.00\n",
            "X7 = 0.00\n",
            "X8 = 0.12\n",
            "X9 = 1.00\n",
            "\n",
            "\n",
            "OptimizationStatus.OPTIMAL\n",
            "Z  = 10.14\n",
            "Solução:\n",
            "X1 = 0.00\n",
            "X2 = 0.00\n",
            "X3 = 0.00\n",
            "X4 = 0.00\n",
            "X5 = 0.00\n",
            "X6 = 0.00\n",
            "X7 = 0.00\n",
            "X8 = 0.29\n",
            "X9 = 1.00\n",
            "\n",
            "\n",
            "OptimizationStatus.OPTIMAL\n",
            "Z  = 9.00\n",
            "Solução:\n",
            "X1 = 0.00\n",
            "X2 = 0.00\n",
            "X3 = 0.00\n",
            "X4 = 0.00\n",
            "X5 = 0.00\n",
            "X6 = 0.00\n",
            "X7 = 0.00\n",
            "X8 = 0.00\n",
            "X9 = 1.00\n",
            "\n",
            "\n",
            "OptimizationStatus.OPTIMAL\n",
            "Z  = 13.49\n",
            "Solução:\n",
            "X1 = 0.00\n",
            "X2 = 0.32\n",
            "X3 = 1.00\n",
            "X4 = 0.00\n",
            "X5 = 0.00\n",
            "X6 = 0.00\n",
            "X7 = 0.00\n",
            "X8 = 0.00\n",
            "X9 = 0.14\n",
            "\n",
            "\n",
            "OptimizationStatus.OPTIMAL\n",
            "Z  = 12.00\n",
            "Solução:\n",
            "X1 = 0.00\n",
            "X2 = 0.00\n",
            "X3 = 1.00\n",
            "X4 = 0.00\n",
            "X5 = 0.00\n",
            "X6 = 0.00\n",
            "X7 = 0.00\n",
            "X8 = 0.50\n",
            "X9 = 0.00\n",
            "\n",
            "\n",
            "OptimizationStatus.OPTIMAL\n",
            "Z  = 11.80\n",
            "Solução:\n",
            "X1 = 0.00\n",
            "X2 = 0.00\n",
            "X3 = 1.00\n",
            "X4 = 0.00\n",
            "X5 = 0.00\n",
            "X6 = 0.00\n",
            "X7 = 0.00\n",
            "X8 = 0.00\n",
            "X9 = 0.20\n",
            "\n",
            "\n",
            "OptimizationStatus.OPTIMAL\n",
            "Z  = 11.33\n",
            "Solução:\n",
            "X1 = 0.00\n",
            "X2 = 0.00\n",
            "X3 = 1.00\n",
            "X4 = 0.00\n",
            "X5 = 0.00\n",
            "X6 = 0.00\n",
            "X7 = 0.17\n",
            "X8 = 0.00\n",
            "X9 = 0.00\n",
            "\n",
            "\n",
            "OptimizationStatus.OPTIMAL\n",
            "Z  = 11.20\n",
            "Solução:\n",
            "X1 = 0.00\n",
            "X2 = 0.00\n",
            "X3 = 1.00\n",
            "X4 = 0.00\n",
            "X5 = 0.00\n",
            "X6 = 0.20\n",
            "X7 = 0.00\n",
            "X8 = 0.00\n",
            "X9 = 0.00\n",
            "\n",
            "\n",
            "OptimizationStatus.OPTIMAL\n",
            "Z  = 11.00\n",
            "Solução:\n",
            "X1 = 0.11\n",
            "X2 = 0.00\n",
            "X3 = 1.00\n",
            "X4 = 0.00\n",
            "X5 = 0.00\n",
            "X6 = 0.00\n",
            "X7 = 0.00\n",
            "X8 = 0.00\n",
            "X9 = 0.00\n",
            "\n",
            "\n",
            "OptimizationStatus.OPTIMAL\n",
            "Z  = 11.00\n",
            "Solução:\n",
            "X1 = 0.00\n",
            "X2 = 0.00\n",
            "X3 = 1.00\n",
            "X4 = 0.14\n",
            "X5 = 0.00\n",
            "X6 = 0.00\n",
            "X7 = 0.00\n",
            "X8 = 0.00\n",
            "X9 = 0.00\n",
            "\n",
            "\n",
            "OptimizationStatus.OPTIMAL\n",
            "Z  = 10.90\n",
            "Solução:\n",
            "X1 = 0.00\n",
            "X2 = 0.00\n",
            "X3 = 1.00\n",
            "X4 = 0.00\n",
            "X5 = 0.10\n",
            "X6 = 0.00\n",
            "X7 = 0.00\n",
            "X8 = 0.00\n",
            "X9 = 0.00\n",
            "\n",
            "\n",
            "OptimizationStatus.OPTIMAL\n",
            "Z  = 10.00\n",
            "Solução:\n",
            "X1 = 0.00\n",
            "X2 = 0.00\n",
            "X3 = 1.00\n",
            "X4 = 0.00\n",
            "X5 = 0.00\n",
            "X6 = 0.00\n",
            "X7 = 0.00\n",
            "X8 = 0.00\n",
            "X9 = 0.00\n",
            "--------------------\n",
            "\n"
          ]
        },
        {
          "output_type": "execute_result",
          "data": {
            "text/plain": [
              "'Solução Ótima: 10.0'"
            ],
            "application/vnd.google.colaboratory.intrinsic+json": {
              "type": "string"
            }
          },
          "metadata": {},
          "execution_count": 203
        }
      ]
    }
  ]
}